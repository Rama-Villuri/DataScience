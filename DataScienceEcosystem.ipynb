{
 "cells": [
  {
   "cell_type": "markdown",
   "id": "3b792e63-0220-4883-ac7d-8ec96fc8a5be",
   "metadata": {},
   "source": [
    "# Data Science Tools and Ecosystem"
   ]
  },
  {
   "cell_type": "markdown",
   "id": "b1d63153-1b2a-4875-ab39-1c76a1bd862c",
   "metadata": {},
   "source": [
    "In this notebook, Data Science Tools and Ecosystem are summarized."
   ]
  },
  {
   "cell_type": "markdown",
   "id": "cde7d77c-811d-4180-a15c-f499acfffba0",
   "metadata": {},
   "source": [
    "Objectives:\n",
    "+ List popular languages for Data science.\n",
    "+ List commonly used libraries used by Data scientists.\n",
    "+ List Data science tools\n",
    "+ Demonstrate arithmetic operations"
   ]
  },
  {
   "cell_type": "markdown",
   "id": "6f5c112d-2eef-48fb-b8ca-9b55a1b638ea",
   "metadata": {},
   "source": [
    "Some of the popular languages that Data Scientists use are:\n",
    "+ Python\n",
    "+ R\n",
    "+ Julia"
   ]
  },
  {
   "cell_type": "markdown",
   "id": "c8ff8beb-68f4-4885-8825-a6e7e55672b7",
   "metadata": {},
   "source": [
    "Some of the commonly used libraries used by Data Scientists include:\n",
    "+ dpylr\n",
    "+ stringr\n",
    "+ ggplot\n",
    "+ caret"
   ]
  },
  {
   "cell_type": "markdown",
   "id": "7ebfd22f-70ef-4479-8c75-4d11371b87c0",
   "metadata": {
    "tags": []
   },
   "source": [
    "|Data Science Tools|\n",
    "|----|\n",
    "|Jupyter Notebooks|\n",
    "|Visual Studio Code|\n",
    "|Anacodna|"
   ]
  },
  {
   "cell_type": "markdown",
   "id": "f2a7ffff-bb23-417a-a65e-e290174f2f6d",
   "metadata": {},
   "source": [
    "### Below are a few examples of evaluating arithmetic expressions in Python"
   ]
  },
  {
   "cell_type": "code",
   "execution_count": 2,
   "id": "e6ba20fe-6316-4889-aa1f-bbe22e0eca57",
   "metadata": {
    "tags": []
   },
   "outputs": [
    {
     "name": "stdout",
     "output_type": "stream",
     "text": [
      "17\n"
     ]
    }
   ],
   "source": [
    "#This a simple arithmetic expression to mutiply then add integers\n",
    "result=(3*4)+5\n",
    "print(result)"
   ]
  },
  {
   "cell_type": "code",
   "execution_count": 3,
   "id": "5603bca2-c40c-472c-bdca-63616779b834",
   "metadata": {
    "tags": []
   },
   "outputs": [
    {
     "name": "stdout",
     "output_type": "stream",
     "text": [
      "3.3333333333333335\n"
     ]
    }
   ],
   "source": [
    "#This will convert 200 minutes to hours by diving by 60\n",
    "hours=(200/60)\n",
    "print(hours)"
   ]
  },
  {
   "cell_type": "markdown",
   "id": "ff883217-275c-41ea-97f1-1ec7a081078c",
   "metadata": {},
   "source": [
    "## Author\n",
    "Rama Villuri"
   ]
  },
  {
   "cell_type": "code",
   "execution_count": null,
   "id": "f91c9fb5-7675-493e-a386-3ba82cc5113e",
   "metadata": {},
   "outputs": [],
   "source": []
  }
 ],
 "metadata": {
  "kernelspec": {
   "display_name": "Python",
   "language": "python",
   "name": "conda-env-python-py"
  },
  "language_info": {
   "codemirror_mode": {
    "name": "ipython",
    "version": 3
   },
   "file_extension": ".py",
   "mimetype": "text/x-python",
   "name": "python",
   "nbconvert_exporter": "python",
   "pygments_lexer": "ipython3",
   "version": "3.7.12"
  }
 },
 "nbformat": 4,
 "nbformat_minor": 5
}
